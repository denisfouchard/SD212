{
 "cells": [
  {
   "attachments": {},
   "cell_type": "markdown",
   "metadata": {},
   "source": [
    "# SD212: Graph mining\n",
    "\n",
    "## Lab 7: Graph neural networks"
   ]
  },
  {
   "attachments": {},
   "cell_type": "markdown",
   "metadata": {},
   "source": [
    "In this lab, you will learn to classify nodes using graph neural networks.\n",
    "\n",
    "We use [DGL](https://www.dgl.ai) (deep graph library), which relies on pytorch."
   ]
  },
  {
   "cell_type": "code",
   "execution_count": 307,
   "metadata": {},
   "outputs": [],
   "source": [
    "# pip install dgl"
   ]
  },
  {
   "attachments": {},
   "cell_type": "markdown",
   "metadata": {
    "tags": []
   },
   "source": [
    "## Import"
   ]
  },
  {
   "cell_type": "code",
   "execution_count": 308,
   "metadata": {},
   "outputs": [],
   "source": [
    "import numpy as np\n",
    "from scipy import sparse"
   ]
  },
  {
   "cell_type": "code",
   "execution_count": 309,
   "metadata": {},
   "outputs": [],
   "source": [
    "from sknetwork.data import load_netset\n",
    "from sknetwork.classification import DiffusionClassifier\n",
    "from sknetwork.embedding import Spectral\n",
    "from sknetwork.utils import directed2undirected"
   ]
  },
  {
   "cell_type": "code",
   "execution_count": 310,
   "metadata": {},
   "outputs": [],
   "source": [
    "import dgl\n",
    "from dgl.nn import SAGEConv\n",
    "from dgl import function as fn"
   ]
  },
  {
   "cell_type": "code",
   "execution_count": 311,
   "metadata": {},
   "outputs": [],
   "source": [
    "import torch\n",
    "from torch import nn\n",
    "import torch.nn.functional as F"
   ]
  },
  {
   "cell_type": "code",
   "execution_count": 312,
   "metadata": {},
   "outputs": [],
   "source": [
    "# ignore warnings from DGL\n",
    "import warnings\n",
    "warnings.filterwarnings('ignore')"
   ]
  },
  {
   "attachments": {},
   "cell_type": "markdown",
   "metadata": {},
   "source": [
    "## Load data"
   ]
  },
  {
   "attachments": {},
   "cell_type": "markdown",
   "metadata": {},
   "source": [
    "We will work on the following datasets (see the [NetSet](https://netset.telecom-paris.fr/) collection for details):\n",
    "* Cora (directed graph + bipartite graph)\n",
    "* WikiVitals (directed graph + bipartite graph)\n",
    "\n",
    "Both datasets are graphs with node features (given by the bipartite graph) and ground-truth labels."
   ]
  },
  {
   "cell_type": "code",
   "execution_count": 313,
   "metadata": {},
   "outputs": [
    {
     "name": "stdout",
     "output_type": "stream",
     "text": [
      "Parsing files...\n",
      "Done.\n",
      "Parsing files...\n",
      "Done.\n"
     ]
    }
   ],
   "source": [
    "cora = load_netset('cora')\n",
    "wikivitals = load_netset('wikivitals')"
   ]
  },
  {
   "cell_type": "code",
   "execution_count": 314,
   "metadata": {},
   "outputs": [],
   "source": [
    "dataset = cora"
   ]
  },
  {
   "cell_type": "code",
   "execution_count": 315,
   "metadata": {},
   "outputs": [],
   "source": [
    "adjacency = dataset.adjacency\n",
    "biadjacency = dataset.biadjacency\n",
    "labels = dataset.labels"
   ]
  },
  {
   "cell_type": "code",
   "execution_count": 316,
   "metadata": {},
   "outputs": [],
   "source": [
    "# we use undirected graphs\n",
    "adjacency = directed2undirected(adjacency)"
   ]
  },
  {
   "cell_type": "code",
   "execution_count": 317,
   "metadata": {},
   "outputs": [],
   "source": [
    "# for Wikivitals, use spectral embedding of the bipartite graph as features\n",
    "\n",
    "if dataset.meta.name.startswith('Wikivitals'):\n",
    "    spectral = Spectral(50)\n",
    "    features = spectral.fit_transform(biadjacency)\n",
    "else:\n",
    "    features = biadjacency.toarray()"
   ]
  },
  {
   "cell_type": "code",
   "execution_count": 318,
   "metadata": {},
   "outputs": [],
   "source": [
    "def split_train_test_val(n_samples, test_ratio=0.1, val_ratio=0.1, seed=None):\n",
    "    \"\"\"Split the samples into train / test / validation sets.\n",
    "    \n",
    "    Returns\n",
    "    -------\n",
    "    train: np.ndarray\n",
    "        Boolean mask\n",
    "    test: np.ndarray\n",
    "        Boolean mask\n",
    "    validation: np.ndarray\n",
    "        Boolean mask\n",
    "    \"\"\"\n",
    "    if seed:\n",
    "        np.random.seed(seed)\n",
    "\n",
    "    # test\n",
    "    index = np.random.choice(n_samples, int(np.ceil(n_samples * test_ratio)), replace=False)\n",
    "    test = np.zeros(n_samples, dtype=bool)\n",
    "    test[index] = 1\n",
    "    \n",
    "    # validation\n",
    "    index = np.random.choice(np.argwhere(~test).ravel(), int(np.ceil(n_samples * val_ratio)), replace=False)\n",
    "    val = np.zeros(n_samples, dtype=bool)\n",
    "    val[index] = 1\n",
    "    \n",
    "    # train\n",
    "    train = np.ones(n_samples, dtype=bool)\n",
    "    train[test] = 0\n",
    "    train[val] = 0\n",
    "    return train, test, val"
   ]
  },
  {
   "cell_type": "code",
   "execution_count": 319,
   "metadata": {},
   "outputs": [],
   "source": [
    "train, test, val = split_train_test_val(len(labels))"
   ]
  },
  {
   "attachments": {},
   "cell_type": "markdown",
   "metadata": {},
   "source": [
    "## Graph and tensors"
   ]
  },
  {
   "attachments": {},
   "cell_type": "markdown",
   "metadata": {},
   "source": [
    "In DGL, the graph is represented as an object, the features and labels as tensors."
   ]
  },
  {
   "cell_type": "code",
   "execution_count": 320,
   "metadata": {},
   "outputs": [],
   "source": [
    "# graph as an object\n",
    "graph = dgl.from_scipy(adjacency)"
   ]
  },
  {
   "cell_type": "code",
   "execution_count": 321,
   "metadata": {},
   "outputs": [
    {
     "data": {
      "text/plain": [
       "dgl.heterograph.DGLGraph"
      ]
     },
     "execution_count": 321,
     "metadata": {},
     "output_type": "execute_result"
    }
   ],
   "source": [
    "type(graph)"
   ]
  },
  {
   "cell_type": "code",
   "execution_count": 322,
   "metadata": {},
   "outputs": [],
   "source": [
    "# features and labels as tensors\n",
    "features = torch.Tensor(features)\n",
    "labels = torch.Tensor(labels).long()"
   ]
  },
  {
   "cell_type": "code",
   "execution_count": 323,
   "metadata": {},
   "outputs": [
    {
     "data": {
      "text/plain": [
       "tensor([2, 2, 1,  ..., 6, 6, 6])"
      ]
     },
     "execution_count": 323,
     "metadata": {},
     "output_type": "execute_result"
    }
   ],
   "source": [
    "labels"
   ]
  },
  {
   "cell_type": "code",
   "execution_count": 324,
   "metadata": {},
   "outputs": [],
   "source": [
    "# masks as tensors\n",
    "train = torch.Tensor(train).bool()\n",
    "test = torch.Tensor(test).bool()\n",
    "val = torch.Tensor(val).bool()"
   ]
  },
  {
   "attachments": {},
   "cell_type": "markdown",
   "metadata": {},
   "source": [
    "## Graph neural network"
   ]
  },
  {
   "attachments": {},
   "cell_type": "markdown",
   "metadata": {},
   "source": [
    "We start with a simple graph neural network without hidden layer. The output layer is of type [GraphSAGE](https://docs.dgl.ai/generated/dgl.nn.pytorch.conv.SAGEConv.html)."
   ]
  },
  {
   "cell_type": "code",
   "execution_count": 325,
   "metadata": {},
   "outputs": [],
   "source": [
    "class GNN(nn.Module):\n",
    "    def __init__(self, dim_input, dim_output):\n",
    "        super(GNN, self).__init__()\n",
    "        self.conv = SAGEConv(dim_input, 20, 'mean')\n",
    "        self.hidden = nn.Linear(20, dim_output)\n",
    "        self.relu = nn.ReLU()\n",
    "        \n",
    "    def forward(self, graph, features):\n",
    "        output_layer1 = self.conv(graph, features)\n",
    "        output_hidden = self.hidden(output_layer1)\n",
    "        output = self.relu(output_hidden)\n",
    "        return output"
   ]
  },
  {
   "attachments": {},
   "cell_type": "markdown",
   "metadata": {},
   "source": [
    "## To do\n",
    "\n",
    "* Train the model on Cora and get accuracy.\n",
    "* Compare with the same model trained on an empty graph.\n",
    "* Add a hidden layer with ReLu activation function (e.g., dimension = 20) and retrain the model. \n",
    "* Compare with a classifier based on heat diffusion."
   ]
  },
  {
   "cell_type": "code",
   "execution_count": 326,
   "metadata": {},
   "outputs": [],
   "source": [
    "def init_model(model, features, labels):\n",
    "    '''Init the GNN with appropriate dimensions.'''\n",
    "    dim_input = features.shape[1]\n",
    "    dim_output = len(labels.unique())\n",
    "    return model(dim_input, dim_output)   "
   ]
  },
  {
   "cell_type": "code",
   "execution_count": 327,
   "metadata": {},
   "outputs": [],
   "source": [
    "def eval_model(gnn, graph, features, labels, test=test):\n",
    "    '''Evaluate the model in terms of accuracy.'''\n",
    "    gnn.eval()\n",
    "    with torch.no_grad():\n",
    "        output = gnn(graph, features)\n",
    "        labels_pred = torch.max(output, dim=1)[1]\n",
    "        score = np.mean(np.array(labels[test]) == np.array(labels_pred[test]))\n",
    "    return score"
   ]
  },
  {
   "cell_type": "code",
   "execution_count": 328,
   "metadata": {},
   "outputs": [],
   "source": [
    "def train_model(gnn, graph, features, labels, train=train, val=val, n_epochs=100, lr=0.01, verbose=True):\n",
    "    '''Train the GNN.'''\n",
    "    optimizer = torch.optim.Adam(gnn.parameters(), lr=lr)\n",
    "    \n",
    "    gnn.train()\n",
    "    scores = []\n",
    "    \n",
    "    for t in range(n_epochs):   \n",
    "        \n",
    "        # forward\n",
    "        output = gnn(graph, features)\n",
    "        logp = nn.functional.log_softmax(output, 1)\n",
    "        loss = nn.functional.nll_loss(logp[train], labels[train])\n",
    "\n",
    "        # backward\n",
    "        optimizer.zero_grad()\n",
    "        loss.backward()\n",
    "        optimizer.step()\n",
    "\n",
    "        # evaluation\n",
    "        score = eval_model(gnn, graph, features, labels, val)\n",
    "        scores.append(score)\n",
    "        \n",
    "        if verbose and t % 10 == 0:\n",
    "            print(\"Epoch {:02d} | Loss {:.3f} | Accuracy {:.3f}\".format(t, loss.item(), score))"
   ]
  },
  {
   "cell_type": "code",
   "execution_count": 329,
   "metadata": {},
   "outputs": [],
   "source": [
    "gnn = init_model(GNN, features, labels)"
   ]
  },
  {
   "cell_type": "code",
   "execution_count": 330,
   "metadata": {},
   "outputs": [
    {
     "name": "stdout",
     "output_type": "stream",
     "text": [
      "Epoch 00 | Loss 1.963 | Accuracy 0.317\n",
      "Epoch 10 | Loss 0.480 | Accuracy 0.819\n"
     ]
    },
    {
     "name": "stdout",
     "output_type": "stream",
     "text": [
      "Epoch 20 | Loss 0.104 | Accuracy 0.834\n",
      "Epoch 30 | Loss 0.021 | Accuracy 0.841\n",
      "Epoch 40 | Loss 0.007 | Accuracy 0.834\n",
      "Epoch 50 | Loss 0.004 | Accuracy 0.838\n",
      "Epoch 60 | Loss 0.002 | Accuracy 0.841\n",
      "Epoch 70 | Loss 0.002 | Accuracy 0.834\n",
      "Epoch 80 | Loss 0.001 | Accuracy 0.830\n",
      "Epoch 90 | Loss 0.001 | Accuracy 0.830\n"
     ]
    }
   ],
   "source": [
    "train_model(gnn, graph, features, labels)"
   ]
  },
  {
   "cell_type": "code",
   "execution_count": 331,
   "metadata": {},
   "outputs": [
    {
     "data": {
      "text/plain": [
       "0.8597785977859779"
      ]
     },
     "execution_count": 331,
     "metadata": {},
     "output_type": "execute_result"
    }
   ],
   "source": [
    "eval_model(gnn, graph, features, labels)"
   ]
  },
  {
   "cell_type": "code",
   "execution_count": 332,
   "metadata": {},
   "outputs": [
    {
     "name": "stdout",
     "output_type": "stream",
     "text": [
      "Epoch 00 | Loss 1.984 | Accuracy 0.140\n",
      "Epoch 10 | Loss 1.514 | Accuracy 0.561\n",
      "Epoch 20 | Loss 1.073 | Accuracy 0.668\n",
      "Epoch 30 | Loss 0.817 | Accuracy 0.745\n",
      "Epoch 40 | Loss 0.690 | Accuracy 0.793\n",
      "Epoch 50 | Loss 0.627 | Accuracy 0.812\n",
      "Epoch 60 | Loss 0.593 | Accuracy 0.834\n",
      "Epoch 70 | Loss 0.572 | Accuracy 0.830\n",
      "Epoch 80 | Loss 0.559 | Accuracy 0.830\n",
      "Epoch 90 | Loss 0.548 | Accuracy 0.830\n"
     ]
    },
    {
     "data": {
      "text/plain": [
       "0.8154981549815498"
      ]
     },
     "execution_count": 332,
     "metadata": {},
     "output_type": "execute_result"
    }
   ],
   "source": [
    "# Create empty graph of same size\n",
    "graph_dgl = dgl.DGLGraph()\n",
    "graph_dgl.add_nodes(graph.number_of_nodes())\n",
    "\n",
    "adjacency_empty = sparse.csr_matrix(adjacency)\n",
    "\n",
    "graph_empty = dgl.from_scipy(adjacency)\n",
    "\n",
    "spectral_empty = Spectral(50)\n",
    "features_empty = spectral.fit_transform(adjacency)\n",
    "\n",
    "features_empty = torch.Tensor(features_empty)\n",
    "\n",
    "gnn_empty = init_model(GNN, features_empty, labels)\n",
    "\n",
    "train_model(gnn_empty, graph_empty, features_empty, labels)\n",
    "\n",
    "eval_model(gnn_empty, graph_empty, features_empty, labels)\n",
    "\n",
    "\n"
   ]
  },
  {
   "attachments": {},
   "cell_type": "markdown",
   "metadata": {},
   "source": [
    "> WIth an empty graph it gives random values of accuracy as there is no data to fit on.\n",
    "> ReLu activation function gives better accuracy than the previous model (0.87 vs 0.83)\n",
    "> But with adding an hidden layer with ReLu, it is worse (0.81 vs 0.83)"
   ]
  },
  {
   "cell_type": "code",
   "execution_count": 333,
   "metadata": {},
   "outputs": [
    {
     "data": {
      "text/plain": [
       "0.8560885608856088"
      ]
     },
     "execution_count": 333,
     "metadata": {},
     "output_type": "execute_result"
    }
   ],
   "source": [
    "heat_classifier = DiffusionClassifier()\n",
    "\n",
    "# We keep the values of the train set and set the others to 0\n",
    "\n",
    "labels_train = - np.ones(len(labels), dtype=int)\n",
    "labels_train[train] = labels[train]\n",
    "\n",
    "temperatures = heat_classifier.fit_predict(adjacency, labels=labels_train)\n",
    "\n",
    "\n",
    "np.mean(temperatures[test] == np.array(labels)[test])\n",
    "\n",
    "\n",
    "\n",
    "\n"
   ]
  },
  {
   "attachments": {},
   "cell_type": "markdown",
   "metadata": {},
   "source": [
    "## Build your own GNN"
   ]
  },
  {
   "attachments": {},
   "cell_type": "markdown",
   "metadata": {},
   "source": [
    "You will now build your own GNN. We start with the graph convolution layer."
   ]
  },
  {
   "cell_type": "code",
   "execution_count": 334,
   "metadata": {},
   "outputs": [],
   "source": [
    "class GraphConvLayer(nn.Module):\n",
    "    def __init__(self, dim_input, dim_output):\n",
    "        super(GraphConvLayer, self).__init__()\n",
    "        self.layer = nn.Linear(dim_input, dim_output)\n",
    "        \n",
    "    def forward(self, graph, signal):\n",
    "        with graph.local_scope():\n",
    "            # message passing\n",
    "            graph.ndata['node'] = signal\n",
    "            graph.update_all(fn.copy_u('node', 'message'), fn.mean('message', 'average'))\n",
    "            h = graph.ndata['average']\n",
    "            return self.layer(h)"
   ]
  },
  {
   "attachments": {},
   "cell_type": "markdown",
   "metadata": {},
   "source": [
    "## To do\n",
    "\n",
    "* Build a GNN with two layers (hidden layer + output) based on this graph convolution layer.\n",
    "* Train this GNN and compare the results with the previous one.\n",
    "* Add the input signal to the output of the graph convolution layer and observe the results.\n",
    "* Retrain the same GNN without message passing in the first layer."
   ]
  },
  {
   "cell_type": "code",
   "execution_count": 335,
   "metadata": {},
   "outputs": [],
   "source": [
    "class GNNHeat(nn.Module):\n",
    "    def __init__(self, dim_input, dim_output):\n",
    "        super(GNNHeat, self).__init__()\n",
    "        self.layer = GraphConvLayer(dim_input, 20)\n",
    "        self.hidden = nn.Linear(20, dim_output)\n",
    "\n",
    "        self.relu = nn.ReLU()\n",
    "        \n",
    "    def forward(self, graph, features):\n",
    "        output_layer1 = self.layer.forward(graph, features)\n",
    "        output_hidden = self.hidden(output_layer1)\n",
    "        output = self.relu(output_hidden)\n",
    "        return output"
   ]
  },
  {
   "cell_type": "code",
   "execution_count": 336,
   "metadata": {},
   "outputs": [
    {
     "name": "stdout",
     "output_type": "stream",
     "text": [
      "Epoch 00 | Loss 1.929 | Accuracy 0.351\n",
      "Epoch 10 | Loss 1.067 | Accuracy 0.642\n",
      "Epoch 20 | Loss 0.652 | Accuracy 0.694\n",
      "Epoch 30 | Loss 0.340 | Accuracy 0.834\n",
      "Epoch 40 | Loss 0.161 | Accuracy 0.838\n",
      "Epoch 50 | Loss 0.098 | Accuracy 0.830\n",
      "Epoch 60 | Loss 0.067 | Accuracy 0.834\n",
      "Epoch 70 | Loss 0.051 | Accuracy 0.830\n",
      "Epoch 80 | Loss 0.042 | Accuracy 0.827\n",
      "Epoch 90 | Loss 0.036 | Accuracy 0.812\n"
     ]
    },
    {
     "data": {
      "text/plain": [
       "0.8228782287822878"
      ]
     },
     "execution_count": 336,
     "metadata": {},
     "output_type": "execute_result"
    }
   ],
   "source": [
    "gnn_heat = init_model(GNNHeat, features, labels)\n",
    "\n",
    "train_model(gnn_heat, graph, features, labels)\n",
    "\n",
    "eval_model(gnn_heat, graph, features, labels)"
   ]
  },
  {
   "attachments": {},
   "cell_type": "markdown",
   "metadata": {},
   "source": [
    "## Heat diffusion as a GNN"
   ]
  },
  {
   "attachments": {},
   "cell_type": "markdown",
   "metadata": {},
   "source": [
    "Node classification by heat diffusion can be seen as a GNN without training, using a one-hot encoding of labels. Features are ignored."
   ]
  },
  {
   "attachments": {},
   "cell_type": "markdown",
   "metadata": {},
   "source": [
    "## To do\n",
    "\n",
    "* Build a special GNN whose output corresponds to one step of heat diffusion in the graph.\n",
    "* Use this GNN to classify nodes by heat diffusion, with temperature centering."
   ]
  },
  {
   "cell_type": "code",
   "execution_count": 337,
   "metadata": {},
   "outputs": [],
   "source": [
    "from sknetwork.utils import get_membership"
   ]
  },
  {
   "cell_type": "code",
   "execution_count": 338,
   "metadata": {},
   "outputs": [],
   "source": [
    "labels_one_hot = get_membership(labels).toarray()\n",
    "labels_one_hot = torch.Tensor(labels_one_hot)"
   ]
  },
  {
   "cell_type": "code",
   "execution_count": 339,
   "metadata": {},
   "outputs": [],
   "source": [
    "class Diffusion(nn.Module):\n",
    "    def __init__(self):\n",
    "        super(Diffusion, self).__init__()\n",
    "        \n",
    "    def forward(self, graph, signal, mask):\n",
    "        '''Mask is a boolean tensor giving the training set.'''\n",
    "        with graph.local_scope():\n",
    "            # message passing\n",
    "            graph.ndata['node'] = signal\n",
    "            graph.update_all(fn.copy_u('node', 'message'), fn.mean('message', 'average'))\n",
    "            h = graph.ndata['average']\n",
    "\n",
    "            # diffusion\n",
    "            h = h * mask[:, None]\n",
    "\n",
    "            # normalization\n",
    "\n",
    "            #h = h / torch.norm(h, dim=1)[:, None]\n",
    "            return h\n",
    "            "
   ]
  },
  {
   "cell_type": "code",
   "execution_count": 340,
   "metadata": {},
   "outputs": [],
   "source": [
    "diffusion = Diffusion()"
   ]
  },
  {
   "cell_type": "code",
   "execution_count": 341,
   "metadata": {},
   "outputs": [],
   "source": [
    "n_iter = 20\n",
    "\n",
    "temperatures = labels_one_hot\n",
    "temperatures[~train] = 0\n",
    "for t in range(n_iter):\n",
    "    temperatures = diffusion(graph, temperatures, train)\n",
    "    \n",
    "# temperature centering\n",
    "temperatures -= temperatures.mean(axis=0)"
   ]
  }
 ],
 "metadata": {
  "kernelspec": {
   "display_name": "Python 3 (ipykernel)",
   "language": "python",
   "name": "python3"
  },
  "language_info": {
   "codemirror_mode": {
    "name": "ipython",
    "version": 3
   },
   "file_extension": ".py",
   "mimetype": "text/x-python",
   "name": "python",
   "nbconvert_exporter": "python",
   "pygments_lexer": "ipython3",
   "version": "3.9.16"
  }
 },
 "nbformat": 4,
 "nbformat_minor": 4
}
