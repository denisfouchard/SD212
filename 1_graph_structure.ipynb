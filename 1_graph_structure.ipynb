{
  "cells": [
    {
      "attachments": {},
      "cell_type": "markdown",
      "metadata": {
        "id": "1-65_o5wlG5_"
      },
      "source": [
        "# SD212: Graph mining\n",
        "## Lab 1: Graph structure\n",
        "\n",
        "In this lab, you will check three structural properties of real graphs:\n",
        "* the [power-law](https://en.wikipedia.org/wiki/Power_law#Power-law_probability_distributions) of degrees,\n",
        "* the [small-world](https://en.wikipedia.org/wiki/Small-world_network) property,\n",
        "* the tendency to [cluster](https://en.wikipedia.org/wiki/Clustering_coefficient)."
      ]
    },
    {
      "attachments": {},
      "cell_type": "markdown",
      "metadata": {
        "id": "ztB7f0HelG6B"
      },
      "source": [
        "## Import"
      ]
    },
    {
      "cell_type": "code",
      "execution_count": 27,
      "metadata": {
        "id": "GroN4S1UlG6C"
      },
      "outputs": [],
      "source": [
        "import numpy as np\n",
        "from scipy import sparse\n",
        "import matplotlib.pyplot as plt"
      ]
    },
    {
      "cell_type": "code",
      "execution_count": 28,
      "metadata": {
        "id": "WpB6gy2glG6C"
      },
      "outputs": [],
      "source": [
        "from sknetwork.data import load_netset, erdos_renyi\n",
        "from sknetwork.path import get_distances, get_diameter, get_shortest_path\n",
        "from sknetwork.utils import bipartite2undirected\n",
        "from sknetwork.topology import Triangles"
      ]
    },
    {
      "attachments": {},
      "cell_type": "markdown",
      "metadata": {
        "id": "QIrtW6PYlG6C"
      },
      "source": [
        "## Data"
      ]
    },
    {
      "attachments": {},
      "cell_type": "markdown",
      "metadata": {
        "id": "JPDK6-NalG6C"
      },
      "source": [
        "We will work on the following graphs (see the [NetSet](https://netset.telecom-paris.fr) collection for details):\n",
        "* Openflights (graph)\n",
        "* WikiVitals (directed graph)\n",
        "* Cinema (bipartite graph)"
      ]
    },
    {
      "cell_type": "code",
      "execution_count": 29,
      "metadata": {
        "colab": {
          "base_uri": "https://localhost:8080/"
        },
        "id": "fkQPJ7eqlG6D",
        "outputId": "81e0b3f7-9bbb-423f-c8e2-84405f7ed2db"
      },
      "outputs": [
        {
          "name": "stdout",
          "output_type": "stream",
          "text": [
            "Parsing files...\n",
            "Done.\n"
          ]
        }
      ],
      "source": [
        "openflights = load_netset('openflights')"
      ]
    },
    {
      "cell_type": "code",
      "execution_count": 30,
      "metadata": {
        "colab": {
          "base_uri": "https://localhost:8080/"
        },
        "id": "rGxaOUOtlG6D",
        "outputId": "ee7adaa6-4856-4714-9b7c-72e70dd61257"
      },
      "outputs": [
        {
          "data": {
            "text/plain": [
              "sknetwork.utils.Bunch"
            ]
          },
          "execution_count": 30,
          "metadata": {},
          "output_type": "execute_result"
        }
      ],
      "source": [
        "type(openflights)"
      ]
    },
    {
      "cell_type": "code",
      "execution_count": 31,
      "metadata": {
        "id": "5lB2kkqMlG6D"
      },
      "outputs": [],
      "source": [
        "# weighted adjacency matrix\n",
        "adjacency = openflights.adjacency"
      ]
    },
    {
      "cell_type": "code",
      "execution_count": 32,
      "metadata": {
        "id": "YYZeVV5hlG6D"
      },
      "outputs": [],
      "source": [
        "# binary adjacency matrix\n",
        "adjacency = adjacency > 0"
      ]
    },
    {
      "cell_type": "code",
      "execution_count": 33,
      "metadata": {
        "colab": {
          "base_uri": "https://localhost:8080/"
        },
        "id": "ijNAYFgplG6D",
        "outputId": "787e3c78-685f-449f-a1b8-a65831e160a0"
      },
      "outputs": [
        {
          "data": {
            "text/plain": [
              "<3097x3097 sparse matrix of type '<class 'numpy.bool_'>'\n",
              "\twith 36386 stored elements in Compressed Sparse Row format>"
            ]
          },
          "execution_count": 33,
          "metadata": {},
          "output_type": "execute_result"
        }
      ],
      "source": [
        "adjacency"
      ]
    },
    {
      "cell_type": "code",
      "execution_count": 34,
      "metadata": {
        "colab": {
          "base_uri": "https://localhost:8080/"
        },
        "id": "WC_68P9tlG6E",
        "outputId": "a8d2f968-b5b1-4276-da10-eedaf87f5891"
      },
      "outputs": [
        {
          "name": "stdout",
          "output_type": "stream",
          "text": [
            "Parsing files...\n",
            "Done.\n"
          ]
        }
      ],
      "source": [
        "wikivitals = load_netset('wikivitals')"
      ]
    },
    {
      "cell_type": "code",
      "execution_count": 35,
      "metadata": {
        "colab": {
          "base_uri": "https://localhost:8080/"
        },
        "id": "t4N7mkhDlG6E",
        "outputId": "66c99579-16dc-42d0-fa32-0c5b4e969baa"
      },
      "outputs": [
        {
          "name": "stdout",
          "output_type": "stream",
          "text": [
            "Parsing files...\n",
            "Done.\n"
          ]
        }
      ],
      "source": [
        "cinema = load_netset('cinema')"
      ]
    },
    {
      "attachments": {},
      "cell_type": "markdown",
      "metadata": {
        "id": "H4Kr9Zi1lG6E"
      },
      "source": [
        "## 1. Power law"
      ]
    },
    {
      "attachments": {},
      "cell_type": "markdown",
      "metadata": {
        "id": "n4fBt_dXlG6E"
      },
      "source": [
        "We first focus on the power law degree distribution.\n",
        "\n",
        "We consider the empirical distributions of:\n",
        "* degrees in the Openflights graph,\n",
        "* in-degrees and out-degrees in the WikiVitals graph."
      ]
    },
    {
      "attachments": {},
      "cell_type": "markdown",
      "metadata": {
        "id": "PT_rlXAwlG6E"
      },
      "source": [
        "## To do"
      ]
    },
    {
      "attachments": {},
      "cell_type": "markdown",
      "metadata": {
        "id": "qChl2anXlG6E"
      },
      "source": [
        "For each of these distributions:\n",
        "* Plot the [tail distribution](https://en.wikipedia.org/wiki/Cumulative_distribution_function#Complementary_cumulative_distribution_function_(tail_distribution)) in log-log scale.\n",
        "* Conclude: do you consider that these are power-law graphs?"
      ]
    },
    {
      "cell_type": "code",
      "execution_count": 36,
      "metadata": {
        "id": "dQ16Mk_7lG6E"
      },
      "outputs": [],
      "source": [
        "def plot_loglog(degrees):\n",
        "    \"\"\"Plot the degree distribution in log-log scale and compare with that of a random graph.\n",
        "    \n",
        "    Parameters\n",
        "    ----------\n",
        "    degrees : array\n",
        "        vector of degrees of the graph.\n",
        "    \"\"\"\n",
        "    n = len(degrees)\n",
        "    # comparison with a random graph\n",
        "    adjacency_random = erdos_renyi(n, np.sum(degrees) / n / (n-1))\n",
        "    degrees_random = adjacency_random.dot(np.ones(n))\n",
        "    plt.loglog(np.sort(degrees), 1 - np.arange(n) / n, lw = 3, label='Real graph')\n",
        "    plt.loglog(np.sort(degrees_random), 1 - np.arange(n) / n, lw = 3, label = 'Random graph')\n",
        "    plt.xlabel('Degree')\n",
        "    plt.ylabel('Probability')\n",
        "    plt.legend()\n",
        "    plt.show()"
      ]
    },
    {
      "cell_type": "code",
      "execution_count": 37,
      "metadata": {
        "id": "yqD5pMB0CmYX"
      },
      "outputs": [],
      "source": [
        "deg_openflights = openflights.adjacency.dot(np.ones(openflights.adjacency.shape[0]))\n",
        "deg_wikivitals = wikivitals.adjacency.dot(np.ones(wikivitals.adjacency.shape[0]))\n",
        "deg_cinema = cinema.biadjacency.dot(np.ones(cinema.biadjacency.shape[1]))"
      ]
    },
    {
      "cell_type": "code",
      "execution_count": 38,
      "metadata": {},
      "outputs": [
        {
          "data": {
            "image/png": "[encoded data removed]",
            "text/plain": [
              "<Figure size 640x480 with 1 Axes>"
            ]
          },
          "metadata": {},
          "output_type": "display_data"
        }
      ],
      "source": [
        "plot_loglog(deg_openflights)"
      ]
    },
    {
      "cell_type": "code",
      "execution_count": 39,
      "metadata": {
        "colab": {
          "base_uri": "https://localhost:8080/",
          "height": 454
        },
        "id": "sMxXKNTqDIWC",
        "outputId": "ec729a7e-ab2e-42a8-b979-2e2fe7916a22"
      },
      "outputs": [
        {
          "data": {
            "text/plain": [
              "\"\\nn1 = len(deg_openflights)\\nadjacency_random = erdos_renyi(n1, np.sum(deg_openflights) / n1 / (n1-1))\\ndegrees_random = adjacency_random.dot(np.ones(n1))\\nax[0].loglog(np.sort(degrees_random), 1 - np.arange(n1) / n1, lw = 3, label = 'Random graph')\\nn2 = len(deg_wikivitals)\\nadjacency_random = erdos_renyi(n2, np.sum(deg_wikivitals) / n2 / (n2-1))\\ndegrees_random = adjacency_random.dot(np.ones(n2))\\nax[1].loglog(np.sort(degrees_random), 1 - np.arange(n2) / n2, lw = 3, label = 'Random graph')\\nn3 = len(deg_cinema)\\nadjacency_random = erdos_renyi(n3, np.sum(deg_cinema) / n3 / (n3-1))\\ndegrees_random = adjacency_random.dot(np.ones(n3))\\nax[2].loglog(np.sort(degrees_random), 1 - np.arange(n3) / n3, lw = 3, label = 'Random graph')\\nplt.show()\\n\""
            ]
          },
          "execution_count": 39,
          "metadata": {},
          "output_type": "execute_result"
        },
        {
          "data": {
            "image/png": "[encoded data removed]",
            "text/plain": [
              "<Figure size 1500x500 with 3 Axes>"
            ]
          },
          "metadata": {},
          "output_type": "display_data"
        }
      ],
      "source": [
        "## Create a subplot for the 3 graphs\n",
        "fig, ax = plt.subplots(1, 3, figsize=(15, 5))\n",
        "# Titles\n",
        "ax[0].set_title('Openflights')\n",
        "ax[1].set_title('Wikivitals')\n",
        "ax[2].set_title('Cinema')\n",
        "# Labels\n",
        "ax[0].set_xlabel('Degree')\n",
        "ax[1].set_xlabel('Degree')\n",
        "ax[2].set_xlabel('Degree')\n",
        "ax[0].set_ylabel('Probability')\n",
        "ax[1].set_ylabel('Probability')\n",
        "ax[2].set_ylabel('Probability')\n",
        "# Plot\n",
        "ax[0].loglog(np.sort(deg_openflights), 1 - np.arange(len(deg_openflights)) / len(deg_openflights), lw = 3)\n",
        "ax[1].loglog(np.sort(deg_wikivitals), 1 - np.arange(len(deg_wikivitals)) / len(deg_wikivitals), lw = 3)\n",
        "ax[2].loglog(np.sort(deg_cinema), 1 - np.arange(len(deg_cinema)) / len(deg_cinema), lw = 3)\n",
        "# Plot random graph for comparison\n",
        "\"\"\"\n",
        "n1 = len(deg_openflights)\n",
        "adjacency_random = erdos_renyi(n1, np.sum(deg_openflights) / n1 / (n1-1))\n",
        "degrees_random = adjacency_random.dot(np.ones(n1))\n",
        "ax[0].loglog(np.sort(degrees_random), 1 - np.arange(n1) / n1, lw = 3, label = 'Random graph')\n",
        "n2 = len(deg_wikivitals)\n",
        "adjacency_random = erdos_renyi(n2, np.sum(deg_wikivitals) / n2 / (n2-1))\n",
        "degrees_random = adjacency_random.dot(np.ones(n2))\n",
        "ax[1].loglog(np.sort(degrees_random), 1 - np.arange(n2) / n2, lw = 3, label = 'Random graph')\n",
        "n3 = len(deg_cinema)\n",
        "adjacency_random = erdos_renyi(n3, np.sum(deg_cinema) / n3 / (n3-1))\n",
        "degrees_random = adjacency_random.dot(np.ones(n3))\n",
        "ax[2].loglog(np.sort(degrees_random), 1 - np.arange(n3) / n3, lw = 3, label = 'Random graph')\n",
        "plt.show()\n",
        "\"\"\""
      ]
    },
    {
      "attachments": {},
      "cell_type": "markdown",
      "metadata": {
        "id": "ui0CQ0p1DZFL"
      },
      "source": [
        "`openflights` and `cinema` seem to follow the power rule law quite well, but not wikivitals. The random graph does not so it affirms its empirical character. "
      ]
    },
    {
      "attachments": {},
      "cell_type": "markdown",
      "metadata": {
        "id": "6eoNHAxolG6F"
      },
      "source": [
        "## 2. Small-world"
      ]
    },
    {
      "attachments": {},
      "cell_type": "markdown",
      "metadata": {
        "id": "LCRoIUXylG6F"
      },
      "source": [
        "You will now make a few experiments highlighting the small-world property."
      ]
    },
    {
      "attachments": {},
      "cell_type": "markdown",
      "metadata": {
        "id": "Lr6kv6qSlG6F"
      },
      "source": [
        "## To do\n",
        "\n",
        "* Give a shortest path of maximum length starting from **Paris Charles de Gaulle** airport in Openflights.<br> \n",
        "List the corresponding airports.\n",
        "* Give a shortest path from [Plato](https://en.wikipedia.org/wiki/Plato) to [Platini](https://en.wikipedia.org/wiki/Michel_Platini) in WikiVitals.<br>\n",
        "List the corresponding articles."
      ]
    },
    {
      "cell_type": "code",
      "execution_count": 40,
      "metadata": {
        "colab": {
          "base_uri": "https://localhost:8080/"
        },
        "id": "As2hY-eGDkEe",
        "outputId": "41d5eb97-73c5-44f2-e272-1a254eecc3da"
      },
      "outputs": [
        {
          "name": "stdout",
          "output_type": "stream",
          "text": [
            "Peawanuck Airport  :  7.0\n"
          ]
        }
      ],
      "source": [
        "n = adjacency.shape[0]\n",
        "cdg = np.where(openflights.names == 'Charles de Gaulle International Airport')[0][0]\n",
        "distances = get_distances(adjacency=adjacency, sources = cdg)\n",
        "idx = np.argmax(distances)\n",
        "print(openflights.names[idx], \" : \", distances[idx])\n"
      ]
    },
    {
      "cell_type": "code",
      "execution_count": 53,
      "metadata": {
        "colab": {
          "base_uri": "https://localhost:8080/"
        },
        "id": "932aX607IjNg",
        "outputId": "fb470a92-d82e-490e-90d3-f62d2389ecdc"
      },
      "outputs": [
        {
          "name": "stdout",
          "output_type": "stream",
          "text": [
            "France:  1390\n",
            "Japan:  1079\n",
            "Egypt:  960\n",
            "France, Japan and Egypt:  185\n"
          ]
        }
      ],
      "source": [
        "n = wikivitals.adjacency.shape[0]\n",
        "plato = np.where(wikivitals.names == 'Plato')[0][0]\n",
        "platini = np.where(wikivitals.names == 'Michel Platini')[0][0]\n",
        "path_idx = get_shortest_path(wikivitals.adjacency, sources=plato, targets=range(n))[platini]\n",
        "path = wikivitals.names[path_idx]\n",
        "path\n",
        "\n",
        "# How many articles of Wikivitals have links to each of the following articles: France, Japan and Egypt?\n",
        "\n",
        "n = wikivitals.adjacency.shape[0]\n",
        "france = np.where(wikivitals.names == 'France')[0][0]\n",
        "japan = np.where(wikivitals.names == 'Japan')[0][0]\n",
        "egypt = np.where(wikivitals.names == 'Egypt')[0][0]\n",
        "\n",
        "link_to_france = wikivitals.adjacency[:, france].sum()\n",
        "link_to_japan = wikivitals.adjacency[:, japan].sum()\n",
        "link_to_egypt = wikivitals.adjacency[:, egypt].sum()\n",
        "\n",
        "print(\"France: \", link_to_france)\n",
        "print(\"Japan: \", link_to_japan)\n",
        "print(\"Egypt: \", link_to_egypt)\n",
        "\n",
        "link_to_egypt_and_japan_and_france = wikivitals.adjacency[:, [france, japan, egypt]].sum(axis=1)\n",
        "print(\"France, Japan and Egypt: \", np.sum(link_to_egypt_and_japan_and_france == 3))"
      ]
    },
    {
      "attachments": {},
      "cell_type": "markdown",
      "metadata": {
        "id": "JoS2Ub-vlG6F"
      },
      "source": [
        "## To do\n",
        "\n",
        "* Which fraction of the airports can be reached from **Paris Charles de Gaulle** in 1, 2, 3 flights?\n",
        "* Which fraction of the articles can be reached from **Paris** in 1, 2, 3 clicks on Wikipedia Vitals?"
      ]
    },
    {
      "cell_type": "code",
      "execution_count": 42,
      "metadata": {
        "colab": {
          "base_uri": "https://localhost:8080/"
        },
        "id": "gpUP6ZONJjub",
        "outputId": "a317af10-9345-4733-d4f7-b559f2089912"
      },
      "outputs": [
        {
          "name": "stdout",
          "output_type": "stream",
          "text": [
            "In 1 flights :  0.07523409751372295\n",
            "In 2 flights :  0.5434291249596384\n",
            "In 3 flights :  0.28995802389409103\n",
            "In 4 flights :  0.0736196319018405\n"
          ]
        }
      ],
      "source": [
        "n = adjacency.shape[0]\n",
        "cdg = np.where(openflights.names == 'Charles de Gaulle International Airport')[0][0]\n",
        "distances = get_distances(adjacency=adjacency, sources = cdg)\n",
        "for i in range(1, 5):\n",
        "  print(f\"In {i} flights : \", np.sum(distances == i)/len(distances))"
      ]
    },
    {
      "cell_type": "code",
      "execution_count": 43,
      "metadata": {
        "colab": {
          "base_uri": "https://localhost:8080/"
        },
        "id": "mmA52grEKOsb",
        "outputId": "9c0b7399-aa08-4eea-c2be-eaa96204fa10"
      },
      "outputs": [
        {
          "name": "stdout",
          "output_type": "stream",
          "text": [
            "In 1 clicks :  0.039456597742483265\n",
            "In 2 clicks :  0.6346019378683448\n",
            "In 3 clicks :  0.3191489361702128\n",
            "In 4 clicks :  0.003695934472080711\n"
          ]
        }
      ],
      "source": [
        "n = adjacency.shape[0]\n",
        "paris = np.where(wikivitals.names == 'Paris')[0][0]\n",
        "distances = get_distances(adjacency=wikivitals.adjacency, sources = paris)\n",
        "for i in range(1, 5):\n",
        "  print(f\"In {i} clicks : \", np.sum(distances == i)/len(distances))"
      ]
    },
    {
      "attachments": {},
      "cell_type": "markdown",
      "metadata": {
        "id": "qXUY8V7dlG6F"
      },
      "source": [
        "## To do\n",
        "\n",
        "* Compute the [Bacon number](https://fr.wikipedia.org/wiki/Six_Degrees_of_Kevin_Bacon) of all actors (**without** building the co-starring actor graph).\n",
        "* Plot the corresponding histogram."
      ]
    },
    {
      "cell_type": "code",
      "execution_count": 44,
      "metadata": {
        "colab": {
          "base_uri": "https://localhost:8080/"
        },
        "id": "3yfd4wyLK-Gc",
        "outputId": "eecebedf-cf4d-4e9d-eeec-f7656fda32b4"
      },
      "outputs": [
        {
          "data": {
            "text/plain": [
              "5.0"
            ]
          },
          "execution_count": 44,
          "metadata": {},
          "output_type": "execute_result"
        }
      ],
      "source": [
        "bacon = np.where(cinema.names_col == 'Kevin Bacon')[0][0]\n",
        "r, s = cinema.biadjacency.shape\n",
        "cinema_adjacency = bipartite2undirected(cinema.biadjacency)\n",
        "dist_aux = get_distances(cinema_adjacency, sources=bacon)[r:]\n",
        "bacon_number = (dist_aux-1)/2 \n",
        "# Taking into account that in the path computed before, \n",
        "# between each actor every edge is a movie\n",
        "# so : path = {actor 1, movie with actor 1 and 2, actor 2, ...} \n",
        "# there are n actors, n-1 movies : 2n-1\n",
        "# the bacon number is n-1\n",
        "# Bacon number of elvis presley\n",
        "elvis = np.where(cinema.names_col == 'Elvis Presley')[0][0]\n",
        "bacon_number[elvis]\n"
      ]
    },
    {
      "cell_type": "code",
      "execution_count": 45,
      "metadata": {
        "colab": {
          "base_uri": "https://localhost:8080/",
          "height": 430
        },
        "id": "Yh1CRZl4NXfX",
        "outputId": "c0779481-df75-4c82-bc5b-464aed82a925"
      },
      "outputs": [
        {
          "data": {
            "image/png": "[encoded data removed]",
            "text/plain": [
              "<Figure size 640x480 with 1 Axes>"
            ]
          },
          "metadata": {},
          "output_type": "display_data"
        }
      ],
      "source": [
        "plt.hist(bacon_number, bins='auto')\n",
        "plt.show()"
      ]
    },
    {
      "attachments": {},
      "cell_type": "markdown",
      "metadata": {
        "id": "tW7Gcq82lG6G"
      },
      "source": [
        "## 3. Clustering coefficient"
      ]
    },
    {
      "attachments": {},
      "cell_type": "markdown",
      "metadata": {
        "id": "FL1NI6f2lG6G"
      },
      "source": [
        "Finally, we check the clustering property of real graph (my friends tend to be friends)."
      ]
    },
    {
      "attachments": {},
      "cell_type": "markdown",
      "metadata": {
        "id": "RNovReR5lG6G"
      },
      "source": [
        "## To do\n",
        "\n",
        "\n",
        "* Compute the clustering coefficient of Openflights and WikiVitals (seen as an undirected graph).\n",
        "* Compare with that of a random graph of same size."
      ]
    },
    {
      "cell_type": "code",
      "execution_count": 46,
      "metadata": {
        "colab": {
          "base_uri": "https://localhost:8080/"
        },
        "id": "-s1Ar4sjTQAH",
        "outputId": "dcbd6444-3273-426d-98be-ef4c26f875ed"
      },
      "outputs": [
        {
          "data": {
            "text/plain": [
              "0.21128544972101573"
            ]
          },
          "execution_count": 46,
          "metadata": {},
          "output_type": "execute_result"
        }
      ],
      "source": [
        "triangles = Triangles()\n",
        "nb_triangles = triangles.fit_transform(wikivitals.adjacency)\n",
        "triangles.clustering_coef_"
      ]
    },
    {
      "cell_type": "code",
      "execution_count": 47,
      "metadata": {
        "colab": {
          "base_uri": "https://localhost:8080/"
        },
        "id": "QHcLpTxaUMfu",
        "outputId": "2fe11801-789d-4dd6-eb93-800028c9e7ab"
      },
      "outputs": [
        {
          "data": {
            "text/plain": [
              "0.25107219520077"
            ]
          },
          "execution_count": 47,
          "metadata": {},
          "output_type": "execute_result"
        }
      ],
      "source": [
        "triangles = Triangles()\n",
        "nb_triangles = triangles.fit_transform(openflights.adjacency)\n",
        "triangles.clustering_coef_"
      ]
    },
    {
      "cell_type": "code",
      "execution_count": 48,
      "metadata": {
        "id": "-A9ZnzvDUQ0z"
      },
      "outputs": [],
      "source": [
        "n = np.shape(wikivitals.adjacency)[0]\n",
        "random = erdos_renyi(n)"
      ]
    },
    {
      "cell_type": "code",
      "execution_count": 49,
      "metadata": {
        "colab": {
          "base_uri": "https://localhost:8080/",
          "height": 264
        },
        "id": "U9DE0NfzU3Gx",
        "outputId": "1f46ca18-0baf-4666-e017-dd33fedf4f93"
      },
      "outputs": [],
      "source": [
        "\n",
        "#triangles = Triangles()\n",
        "#nb_triangles = triangles.fit_transform(random)\n",
        "#triangles.clustering_coef_"
      ]
    }
  ],
  "metadata": {
    "anaconda-cloud": {},
    "colab": {
      "provenance": []
    },
    "hide_input": false,
    "kernelspec": {
      "display_name": "Python 3",
      "language": "python",
      "name": "python3"
    },
    "language_info": {
      "codemirror_mode": {
        "name": "ipython",
        "version": 3
      },
      "file_extension": ".py",
      "mimetype": "text/x-python",
      "name": "python",
      "nbconvert_exporter": "python",
      "pygments_lexer": "ipython3",
      "version": "3.9.16"
    }
  },
  "nbformat": 4,
  "nbformat_minor": 0
}
